{
  "cells": [
    {
      "cell_type": "code",
      "execution_count": 14,
      "metadata": {
        "id": "7c_ElUzXWf9x"
      },
      "outputs": [],
      "source": [
        "!pip install -q langchain==0.2.2\n",
        "!pip install -q langchain-openai==0.1.8"
      ]
    },
    {
      "cell_type": "code",
      "execution_count": 15,
      "metadata": {
        "id": "ZfUZ-sHLWhtX"
      },
      "outputs": [],
      "source": [
        "import os"
      ]
    },
    {
      "cell_type": "code",
      "execution_count": 16,
      "metadata": {
        "id": "gMyF0tV7Whqi"
      },
      "outputs": [],
      "source": [
        "os.environ[\"OPENAI_API_KEY\"] = \"\""
      ]
    },
    {
      "cell_type": "code",
      "execution_count": 17,
      "metadata": {
        "id": "qKOo3yLYWhjm"
      },
      "outputs": [],
      "source": [
        "from langchain_openai import ChatOpenAI\n",
        "from langchain_core.messages import HumanMessage, SystemMessage\n",
        "from langchain_core.prompts import ChatPromptTemplate\n",
        "from langchain_core.output_parsers import StrOutputParser, JsonOutputParser"
      ]
    },
    {
      "cell_type": "code",
      "execution_count": 18,
      "metadata": {
        "id": "GzBxTNAiWncr"
      },
      "outputs": [],
      "source": [
        "from langchain.globals import set_debug\n",
        "set_debug(False)"
      ]
    },
    {
      "cell_type": "markdown",
      "metadata": {
        "id": "jYFVI42vWoQe"
      },
      "source": [
        "<hr>"
      ]
    },
    {
      "cell_type": "markdown",
      "metadata": {
        "id": "I6fIh5yKWq9l"
      },
      "source": [
        "### Mockup Email"
      ]
    },
    {
      "cell_type": "code",
      "execution_count": 19,
      "metadata": {
        "id": "_GLpxiJjWpR4"
      },
      "outputs": [],
      "source": [
        "Frontend_email = \"\"\"\n",
        "Dear Hiring Team,\n",
        "My name is Kasikorn Rakthai, and I am excited to apply for the Frontend Developer position at KBTG. With a Bachelor’s degree in Computer Science from Chulalongkorn University and over three years of experience in frontend development, I am confident in my ability to contribute to your innovative team.\n",
        "I am proficient in HTML, CSS, JavaScript, and frameworks such as React.js and Angular. At [Your Current or Previous Company], I successfully led a website redesign that increased user engagement by 30% and improved conversion rates by 20%.\n",
        "KBTG's commitment to technological innovation greatly excites me, and I am eager to bring my skills to your team. Attached is my resume for your review. I am available for an interview at your convenience and can be reached at 089-123456.\n",
        "Thank you for considering my application.\n",
        "Best regards,\n",
        "Kasikorn Rakthai\n",
        "\"\"\"\n",
        "chef_email = \"\"\"\n",
        "Dear Hiring Manager,\n",
        "I am writing to express my interest in the Head Chef position at KBTG. With over 15 years of culinary experience, including 5 years as Executive Chef at renowned restaurants, I am confident in my ability to contribute to your esteemed establishment.\n",
        "My expertise in diverse cuisines, team leadership, and innovative menu development align well with the vision of KBTG. I am excited about the opportunity to bring my passion for culinary excellence to your team.\n",
        "Please find my resume attached for your review. I look forward to the possibility of discussing how my background, skills, and certifications can be an asset to KBTG.\n",
        "Thank you for considering my application.\n",
        "Sincerely,\n",
        "Aroii Dee\n",
        "\"\"\"\n"
      ]
    },
    {
      "cell_type": "markdown",
      "metadata": {
        "id": "rAVZPPpQWt9Y"
      },
      "source": [
        "<hr>"
      ]
    },
    {
      "cell_type": "markdown",
      "metadata": {
        "id": "Ko5F_N9jYDr-"
      },
      "source": [
        "## 01 Email data extraction"
      ]
    },
    {
      "cell_type": "code",
      "execution_count": 54,
      "metadata": {
        "id": "vOZvgBzcWzm8"
      },
      "outputs": [],
      "source": [
        "prompt_template = ChatPromptTemplate.from_messages(\n",
        "    [\n",
        "        (\"system\",\n",
        "                \"\"\"\n",
        "                You are a Hiring Manager at KBTG reading a candidate's email.\n",
        "                A candidate's email text will be given.\n",
        "                Your task is to identify the following information and convert it into JSON object with these keys:\n",
        "                - job_position : string, the job position which the candidate is applying for.\n",
        "                - company_name : string, the company name which the candidate is applying for.\n",
        "                - candidate_name : string, the candidate name\n",
        "                Answer in the form of a JSON object\n",
        "                \"\"\"),\n",
        "        (\"user\",\n",
        "                \"{email}\"\n",
        "                )\n",
        "\n",
        "    ]\n",
        ")\n",
        "model = ChatOpenAI(\n",
        "    model = \"gpt-3.5-turbo\",\n",
        "    temperature = 0.0\n",
        ")\n",
        "# parser = StrOutputParser()\n",
        "parser = JsonOutputParser()\n",
        "\n",
        "chain = prompt_template | model | parser"
      ]
    },
    {
      "cell_type": "code",
      "execution_count": 55,
      "metadata": {
        "colab": {
          "base_uri": "https://localhost:8080/"
        },
        "id": "mK-MvVp5Xvhu",
        "outputId": "cd777838-fadb-4272-a7ef-371b903a0dc8"
      },
      "outputs": [
        {
          "data": {
            "text/plain": [
              "{'job_position': 'Frontend Developer',\n",
              " 'company_name': 'KBTG',\n",
              " 'candidate_name': 'Kasikorn Rakthai'}"
            ]
          },
          "execution_count": 55,
          "metadata": {},
          "output_type": "execute_result"
        }
      ],
      "source": [
        "chain.invoke(\n",
        "    {\"email\":Frontend_email}\n",
        ")"
      ]
    },
    {
      "cell_type": "markdown",
      "metadata": {
        "id": "YrUDwdRrZf0g"
      },
      "source": [
        "<hr>"
      ]
    },
    {
      "cell_type": "markdown",
      "metadata": {
        "id": "yh-7TM2PZWxt"
      },
      "source": [
        "## 02 Pass or NotPass"
      ]
    },
    {
      "cell_type": "code",
      "execution_count": 79,
      "metadata": {
        "id": "rIY0xFeHZanH"
      },
      "outputs": [],
      "source": [
        "def clean(text):\n",
        "    return text.lower().strip().replace(\" \",\"\")\n",
        "def make_decision(candidate_data):\n",
        "    opening_positions = [\"Frontend Developer\",\"Backend Developer\",\"AI Developer\",\"Blockchain Develop\"]\n",
        "    opening_positions = set([clean(e) for e in opening_positions])\n",
        "    critiria_1 = clean(candidate_data[\"job_position\"]) in opening_positions\n",
        "    # print(critiria_1)\n",
        "    critiria_2 = clean(candidate_data[\"company_name\"]) == clean(\"KBTG\")\n",
        "    # print(critiria_2)\n",
        "    return critiria_1 and critiria_2\n"
      ]
    },
    {
      "cell_type": "code",
      "execution_count": 75,
      "metadata": {
        "id": "OztubYC5cbWb"
      },
      "outputs": [],
      "source": [
        "def screen_email(email):\n",
        "    candidate_data = chain.invoke({\"email\":email})\n",
        "    is_pass = make_decision(candidate_data)\n",
        "    if is_pass:\n",
        "        return \"congrats!\"\n",
        "    return \"sorry :(\""
      ]
    },
    {
      "cell_type": "code",
      "execution_count": 88,
      "metadata": {
        "colab": {
          "base_uri": "https://localhost:8080/",
          "height": 35
        },
        "id": "181fNS2dupNY",
        "outputId": "c7abe3ea-7065-4754-e178-da86622ec8a7"
      },
      "outputs": [
        {
          "data": {
            "application/vnd.google.colaboratory.intrinsic+json": {
              "type": "string"
            },
            "text/plain": [
              "'congrats!'"
            ]
          },
          "execution_count": 88,
          "metadata": {},
          "output_type": "execute_result"
        }
      ],
      "source": [
        "# Test01\n",
        "screen_email(Frontend_email)"
      ]
    },
    {
      "cell_type": "code",
      "execution_count": 89,
      "metadata": {
        "colab": {
          "base_uri": "https://localhost:8080/",
          "height": 35
        },
        "id": "1JW8N1XtrtaA",
        "outputId": "732cdd45-13f2-466a-9d99-59dd6c598611"
      },
      "outputs": [
        {
          "data": {
            "application/vnd.google.colaboratory.intrinsic+json": {
              "type": "string"
            },
            "text/plain": [
              "'sorry :('"
            ]
          },
          "execution_count": 89,
          "metadata": {},
          "output_type": "execute_result"
        }
      ],
      "source": [
        "# Test02\n",
        "screen_email(chef_email)"
      ]
    },
    {
      "cell_type": "markdown",
      "metadata": {
        "id": "6CBVFWnPs7aW"
      },
      "source": [
        "<hr>"
      ]
    },
    {
      "cell_type": "markdown",
      "metadata": {
        "id": "vjGtXO1Ys8jH"
      },
      "source": [
        "## 03 Response email"
      ]
    },
    {
      "cell_type": "code",
      "execution_count": 84,
      "metadata": {
        "id": "DvWmd3xctFL1"
      },
      "outputs": [],
      "source": [
        "prompt_tmeplate = ChatPromptTemplate.from_messages(\n",
        "    [\n",
        "        (\"system\",\n",
        "         \"\"\"\n",
        "         You are Hiring Manager named \"Khunthong Smith\".\n",
        "         Your task is to write an email response to candidate job application\n",
        "         \"\"\"),\n",
        "        (\"user\",\n",
        "         \"\"\"\n",
        "         Write the response email in formal English langauge which notify canidate name \\\"{candidate_name}\\\" that they \\\"{result}\\\"\n",
        "         \"\"\")\n",
        "    ]\n",
        ")\n",
        "\n",
        "model = ChatOpenAI(\n",
        "    model = \"gpt-3.5-turbo\",\n",
        "    temperature = 1.0\n",
        ")\n",
        "\n",
        "parser = StrOutputParser()\n",
        "\n",
        "email_generation_chain = prompt_tmeplate | model | parser"
      ]
    },
    {
      "cell_type": "code",
      "execution_count": 86,
      "metadata": {
        "colab": {
          "base_uri": "https://localhost:8080/",
          "height": 157
        },
        "id": "3yM8WCUAtm2L",
        "outputId": "c636398a-5476-4a4a-f21b-549f65f238fd"
      },
      "outputs": [
        {
          "data": {
            "application/vnd.google.colaboratory.intrinsic+json": {
              "type": "string"
            },
            "text/plain": [
              "'Subject: Job Application Status - Congratulations!\\n\\nDear Mr. Kasikorn Rakthai,\\n\\nI hope this email finds you well. I am writing to inform you that after a careful review of your job application and interview, we are pleased to offer you the position at our company. Congratulations, you have successfully passed the selection process!\\n\\nWe were impressed with your qualifications, experience, and the passion you demonstrated for the role during the interview. We believe that your skills and expertise will be a valuable addition to our team.\\n\\nOur team will be in touch shortly to discuss the next steps, including details about the joining date, compensation package, and any other relevant information.\\n\\nOnce again, congratulations on your successful application. We are looking forward to welcoming you to our organization and working together.\\n\\nIf you have any questions or need further information, please feel free to reach out to me at [Your Contact Number] or reply to this email.\\n\\nWe are excited to have you on board and are confident that you will make a significant contribution to our team.\\n\\nBest regards,\\n\\nKhunthong Smith\\nHiring Manager\\n[Company Name]'"
            ]
          },
          "execution_count": 86,
          "metadata": {},
          "output_type": "execute_result"
        }
      ],
      "source": [
        "# Test 01\n",
        "email_generation_chain.invoke(\n",
        "    {\n",
        "        \"candidate_name\":\"mr.kasikorn rakthai\",\n",
        "        \"result\":\"Pass\"\n",
        "    }\n",
        ")"
      ]
    },
    {
      "cell_type": "code",
      "execution_count": 87,
      "metadata": {
        "colab": {
          "base_uri": "https://localhost:8080/",
          "height": 157
        },
        "id": "2T0wRXzQuYS1",
        "outputId": "641b3dc0-40a4-48ca-e482-2e44730e80d8"
      },
      "outputs": [
        {
          "data": {
            "application/vnd.google.colaboratory.intrinsic+json": {
              "type": "string"
            },
            "text/plain": [
              "'Subject: Job Application Status Update\\n\\nDear Mr. Aroii Dee,\\n\\nI hope this email finds you well. I wanted to personally reach out and notify you about the status of your recent job application with us. After a careful review and assessment of all candidates, we regret to inform you that you have not been selected to proceed to the next stage of the recruitment process.\\n\\nWe appreciate the time and effort you put into your application and want to thank you for your interest in joining our team. While your qualifications and experience are impressive, we had to make some tough decisions based on specific requirements for the role.\\n\\nYour application will remain on file with us for future opportunities that match your profile, and we encourage you to apply again in the future if a suitable position becomes available.\\n\\nWe wish you all the best in your job search and future endeavors. Thank you for considering a career with us.\\n\\nWarm regards,\\n\\nKhunthong Smith\\nHiring Manager'"
            ]
          },
          "execution_count": 87,
          "metadata": {},
          "output_type": "execute_result"
        }
      ],
      "source": [
        "# Test 02\n",
        "email_generation_chain.invoke(\n",
        "    {\n",
        "        \"candidate_name\":\"mr.aroii dee\",\n",
        "        \"result\":\"Not_Pass\"\n",
        "    }\n",
        ")"
      ]
    },
    {
      "cell_type": "markdown",
      "metadata": {
        "id": "AvEHOyzyu4Bo"
      },
      "source": [
        "<hr>"
      ]
    },
    {
      "cell_type": "markdown",
      "metadata": {
        "id": "eDZU-v9-u9Fo"
      },
      "source": [
        "# 04 Translater"
      ]
    },
    {
      "cell_type": "code",
      "execution_count": 90,
      "metadata": {
        "id": "JQhpnVWLu5Pu"
      },
      "outputs": [],
      "source": [
        "prompt_tmeplate = ChatPromptTemplate.from_messages(\n",
        "    [\n",
        "        (\"system\",\n",
        "         \"\"\"\n",
        "         You are an expert translator proficient in all languages.\n",
        "         Your task is to translate any email into formal English while maintaining the original meaning and tone.\n",
        "         \"\"\"),\n",
        "        (\"user\",\n",
        "         \"\"\"\n",
        "         {email}\n",
        "         \"\"\")\n",
        "    ]\n",
        ")\n",
        "\n",
        "model = ChatOpenAI(\n",
        "    model = \"gpt-3.5-turbo\",\n",
        "    temperature = 0.7\n",
        ")\n",
        "\n",
        "parser = StrOutputParser()\n",
        "\n",
        "email_translation_chain = prompt_tmeplate | model | parser"
      ]
    },
    {
      "cell_type": "code",
      "execution_count": 91,
      "metadata": {
        "id": "KzYRdp99u5NS"
      },
      "outputs": [],
      "source": [
        "th_email = \"\"\"\n",
        "เรียน ผู้จัดการฝ่ายบุคคล,\n",
        "\n",
        "ข้าพเจ้าเขียนจดหมายนี้เพื่อแสดงความสนใจในการสมัครตำแหน่งหัวหน้าเชฟที่บริษัท KBTG ด้วยประสบการณ์การทำงานด้านการทำอาหารมากกว่า 15 ปี รวมถึงการเป็นเชฟบริหารในร้านอาหารชื่อดังมานานกว่า 5 ปี ข้าพเจ้าเชื่อมั่นในความสามารถที่จะนำพาความสำเร็จมาสู่สถานประกอบการของท่าน\n",
        "\n",
        "ความเชี่ยวชาญของข้าพเจ้าในอาหารหลากหลายประเภท ความสามารถในการนำทีม และการพัฒนาเมนูที่นวัตกรรมตรงกับวิสัยทัศน์ของ KBTG ข้าพเจ้ารู้สึกตื่นเต้นกับโอกาสที่จะนำความหลงใหลในการทำอาหารที่ยอดเยี่ยมมาสู่ทีมของท่าน\n",
        "\n",
        "กรุณาพิจารณาประวัติการทำงานที่แนบมานี้ ข้าพเจ้าหวังเป็นอย่างยิ่งว่าจะได้พูดคุยเกี่ยวกับวิธีการที่ประสบการณ์ ทักษะ และใบรับรองต่างๆ ของข้าพเจ้าจะสามารถเป็นประโยชน์ต่อ KBTG\n",
        "\n",
        "ขอขอบพระคุณที่พิจารณาการสมัครของข้าพเจ้า\n",
        "\n",
        "ขอแสดงความนับถือ\n",
        "อร่อย ดี\n",
        "\"\"\"\n",
        "\n",
        "jp_email = \"\"\"\n",
        "採用担当者様\n",
        "\n",
        "この度、KBTGのヘッドシェフ職に応募させていただきたく、メールをお送りいたしました。15年以上の料理経験と、名高いレストランでの5年間のエグゼクティブシェフとしての経験を持つ私が、御社に貢献できると確信しております。\n",
        "\n",
        "多様な料理の専門知識、チームリーダーシップ、革新的なメニュー開発のスキルは、KBTGのビジョンに合致していると考えております。料理の卓越性に対する私の情熱を御社のチームに活かせる機会を大変楽しみにしております。\n",
        "\n",
        "添付した履歴書をご覧いただければ幸いです。私の経歴、スキル、および資格がKBTGにとってどのように役立つかを話し合う機会をいただけることを楽しみにしております。\n",
        "\n",
        "ご検討の程、よろしくお願い申し上げます。\n",
        "\n",
        "敬具\n",
        "アロイ・ディー\n",
        "\"\"\""
      ]
    },
    {
      "cell_type": "code",
      "execution_count": 97,
      "metadata": {
        "colab": {
          "base_uri": "https://localhost:8080/"
        },
        "id": "CMNQSYPAu5Kl",
        "outputId": "7db515e5-d287-4597-ded0-669663d07b1b"
      },
      "outputs": [
        {
          "name": "stdout",
          "output_type": "stream",
          "text": [
            "Dear Human Resources Manager,\n",
            "\n",
            "I am writing this letter to express my interest in applying for the Head Chef position at KBTG Company, with over 15 years of experience in food preparation, as well as over 5 years of experience as an executive chef in a renowned restaurant. I am confident in my ability to lead success into your establishment.\n",
            "\n",
            "My expertise in a variety of cuisines, team leadership skills, and innovation in menu development align with KBTG's vision. I am excited about the opportunity to bring my passion for creating exceptional dishes to your team.\n",
            "\n",
            "Please consider the attached resume for my work history. I am hopeful that a discussion regarding how my experience, skills, and certifications can benefit KBTG will be possible.\n",
            "\n",
            "Thank you for considering my application.\n",
            "\n",
            "Sincerely,\n",
            "Aroi Dee\n"
          ]
        }
      ],
      "source": [
        "# Test01\n",
        "translation = email_translation_chain.invoke(th_email)\n",
        "print(translation)"
      ]
    },
    {
      "cell_type": "code",
      "execution_count": 98,
      "metadata": {
        "colab": {
          "base_uri": "https://localhost:8080/"
        },
        "id": "9F4FOXDLu43e",
        "outputId": "06fb6407-f025-43d8-95ea-ecf7e1184e88"
      },
      "outputs": [
        {
          "name": "stdout",
          "output_type": "stream",
          "text": [
            "Dear Hiring Manager,\n",
            "\n",
            "I am writing to express my interest in the Head Chef position at KBTG. With over 15 years of culinary experience, including 5 years as an Executive Chef at renowned restaurants, I am confident that I can contribute effectively to your organization.\n",
            "\n",
            "I believe that my diverse culinary expertise, team leadership skills, and innovative menu development abilities align well with KBTG's vision. I am looking forward to the opportunity to bring my passion for culinary excellence to your team.\n",
            "\n",
            "I have attached my resume for your review. I am excited about the prospect of discussing how my background, skills, and qualifications can benefit KBTG.\n",
            "\n",
            "Thank you for considering my application.\n",
            "\n",
            "Sincerely,\n",
            "Aloy Dee\n"
          ]
        }
      ],
      "source": [
        "# Test02\n",
        "translation = email_translation_chain.invoke(jp_email)\n",
        "print(translation)"
      ]
    },
    {
      "cell_type": "markdown",
      "metadata": {
        "id": "q_gm84EzwaiM"
      },
      "source": [
        "<hr>"
      ]
    },
    {
      "cell_type": "code",
      "execution_count": null,
      "metadata": {},
      "outputs": [],
      "source": [
        "from typing import Dict\n",
        "\n",
        "# Step 01: Email Data Extraction\n",
        "email_extraction_prompt = ChatPromptTemplate.from_messages(\n",
        "    [\n",
        "        (\"system\",\n",
        "         \"\"\"\n",
        "         You are a Hiring Manager at KBTG reading a candidate's email.\n",
        "         A candidate's email text will be given.\n",
        "         Your task is to identify the following information and convert it into a JSON object with these keys:\n",
        "         - job_position : string, the job position which the candidate is applying for.\n",
        "         - company_name : string, the company name which the candidate is applying for.\n",
        "         - candidate_name : string, the candidate name\n",
        "         Answer in the form of a JSON object\n",
        "         \"\"\"),\n",
        "        (\"user\",\n",
        "         \"{email}\")\n",
        "    ]\n",
        ")\n",
        "\n",
        "email_extraction_model = ChatOpenAI(\n",
        "    model=\"gpt-3.5-turbo\",\n",
        "    temperature=0.0\n",
        ")\n",
        "\n",
        "email_extraction_parser = JsonOutputParser()\n",
        "email_extraction_chain = email_extraction_prompt | email_extraction_model | email_extraction_parser\n",
        "\n",
        "# Step 02: Pass or NotPass Decision\n",
        "def clean(text):\n",
        "    return text.lower().strip().replace(\" \", \"\")\n",
        "\n",
        "def make_decision(candidate_data: Dict[str, str]) -> bool:\n",
        "    opening_positions = [\"Frontend Developer\", \"Backend Developer\", \"AI Developer\", \"Blockchain Developer\"]\n",
        "    opening_positions = set([clean(e) for e in opening_positions])\n",
        "    criteria_1 = clean(candidate_data[\"job_position\"]) in opening_positions\n",
        "    criteria_2 = clean(candidate_data[\"company_name\"]) == clean(\"KBTG\")\n",
        "    return criteria_1 and criteria_2\n",
        "\n",
        "# Step 03: Response Email Generation\n",
        "response_email_prompt = ChatPromptTemplate.from_messages(\n",
        "    [\n",
        "        (\"system\",\n",
        "         \"\"\"\n",
        "         You are a Hiring Manager named \"Khunthong Smith\".\n",
        "         Your task is to write an email response to a candidate's job application.\n",
        "         \"\"\"),\n",
        "        (\"user\",\n",
        "         \"\"\"\n",
        "         Write the response email in formal English language which notifies candidate name \\\"{candidate_name}\\\" that they \\\"{result}\\\".\n",
        "         \"\"\")\n",
        "    ]\n",
        ")\n",
        "\n",
        "response_email_model = ChatOpenAI(\n",
        "    model=\"gpt-3.5-turbo\",\n",
        "    temperature=1.0\n",
        ")\n",
        "\n",
        "response_email_parser = StrOutputParser()\n",
        "response_email_chain = response_email_prompt | response_email_model | response_email_parser\n",
        "\n",
        "# Full Pipeline Function\n",
        "def process_email_pipeline(email: str) -> str:\n",
        "    # Step 01: Extract Data\n",
        "    candidate_data = email_extraction_chain.invoke({\"email\": email})\n",
        "    \n",
        "    # Step 02: Make Decision\n",
        "    is_pass = make_decision(candidate_data)\n",
        "    result = \"Pass\" if is_pass else \"Not_Pass\"\n",
        "    \n",
        "    # Step 03: Generate Response Email\n",
        "    response_email = response_email_chain.invoke(\n",
        "        {\n",
        "            \"candidate_name\": candidate_data[\"candidate_name\"],\n",
        "            \"result\": result\n",
        "        }\n",
        "    )\n",
        "    return response_email\n",
        "\n",
        "# Example Emails for Testing\n",
        "frontend_email = \"\"\"\n",
        "Dear Hiring Manager,\n",
        "\n",
        "My name is Kasikorn Rakthai, and I am writing to express my interest in the Frontend Developer position at KBTG. I believe my skills and experience make me a strong candidate for this role.\n",
        "\n",
        "Best regards,\n",
        "Kasikorn Rakthai\n",
        "\"\"\"\n",
        "\n",
        "chef_email = \"\"\"\n",
        "Dear Hiring Manager,\n",
        "\n",
        "My name is Aroii Dee, and I am applying for the position of Chef at KBTG. Cooking has been my lifelong passion, and I believe I can contribute to your company's success.\n",
        "\n",
        "Sincerely,\n",
        "Aroii Dee\n",
        "\"\"\"\n",
        "\n",
        "# Test Pipeline\n",
        "print(process_email_pipeline(frontend_email))  # Expected: Congrats email\n",
        "print(process_email_pipeline(chef_email))      # Expected: Sorry email\n"
      ]
    }
  ],
  "metadata": {
    "colab": {
      "provenance": []
    },
    "kernelspec": {
      "display_name": "Python 3",
      "name": "python3"
    },
    "language_info": {
      "name": "python"
    }
  },
  "nbformat": 4,
  "nbformat_minor": 0
}
