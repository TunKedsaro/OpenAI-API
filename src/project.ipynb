{
  "cells": [
    {
      "cell_type": "code",
      "execution_count": 59,
      "metadata": {
        "id": "uuueP34s9hb1"
      },
      "outputs": [],
      "source": [
        "!pip install -q requests==2.32.3\n",
        "!pip install -q openai==1.41.1"
      ]
    },
    {
      "cell_type": "code",
      "execution_count": 60,
      "metadata": {
        "id": "-FeOw3G28_Pr"
      },
      "outputs": [],
      "source": [
        "OPENAI_API_KEY = \"\""
      ]
    },
    {
      "cell_type": "code",
      "execution_count": 61,
      "metadata": {
        "id": "Bn1JyIwn9jtA"
      },
      "outputs": [],
      "source": [
        "import requests\n",
        "import json"
      ]
    },
    {
      "cell_type": "code",
      "execution_count": 62,
      "metadata": {
        "colab": {
          "base_uri": "https://localhost:8080/"
        },
        "id": "AHEoVE2J9qJ0",
        "outputId": "b32ab02b-04ab-49fe-9278-3115041e3e53"
      },
      "outputs": [
        {
          "name": "stdout",
          "output_type": "stream",
          "text": [
            "Status Code: 200\n",
            "Response Body: {'id': 'chatcmpl-AgVwQlYDWW0MaUIYiBmTy0PVGo4dP', 'object': 'chat.completion', 'created': 1734695922, 'model': 'gpt-3.5-turbo-16k-0613', 'choices': [{'index': 0, 'message': {'role': 'assistant', 'content': 'Hello! How can I assist you today?', 'refusal': None}, 'logprobs': None, 'finish_reason': 'stop'}], 'usage': {'prompt_tokens': 19, 'completion_tokens': 10, 'total_tokens': 29, 'prompt_tokens_details': {'cached_tokens': 0, 'audio_tokens': 0}, 'completion_tokens_details': {'reasoning_tokens': 0, 'audio_tokens': 0, 'accepted_prediction_tokens': 0, 'rejected_prediction_tokens': 0}}, 'system_fingerprint': None}\n"
          ]
        }
      ],
      "source": [
        "# TODO-2: write code to call openai with requests library\n",
        "url = 'https://api.openai.com/v1/chat/completions'\n",
        "headers = {\n",
        "    'Authorization':f'Bearer {OPENAI_API_KEY}',\n",
        "    'Content-Type':'application/json'\n",
        "}\n",
        "body = {\n",
        "    \"model\": \"gpt-3.5-turbo-16k\",\n",
        "    \"messages\": [\n",
        "      {\n",
        "        \"role\": \"system\",\n",
        "        \"content\": \"You are a helpful assistant.\"\n",
        "      },\n",
        "      {\n",
        "        \"role\": \"user\",\n",
        "        \"content\": \"Hello!\"\n",
        "      }\n",
        "    ]\n",
        "  }\n",
        "# Convert the body to a JSON string\n",
        "body_json = json.dumps(body)\n",
        "# Make the POST request\n",
        "response = requests.post(url, headers=headers,data=body_json)\n",
        "# Print the response\n",
        "print(f\"Status Code: {response.status_code}\")\n",
        "print(f\"Response Body: {response.json()}\")"
      ]
    },
    {
      "cell_type": "code",
      "execution_count": 63,
      "metadata": {
        "colab": {
          "base_uri": "https://localhost:8080/"
        },
        "id": "WryrTXbP9s-5",
        "outputId": "217fec7c-6013-4fa9-9f4a-36822fae6d68"
      },
      "outputs": [
        {
          "data": {
            "text/plain": [
              "{'id': 'chatcmpl-AgVwQlYDWW0MaUIYiBmTy0PVGo4dP',\n",
              " 'object': 'chat.completion',\n",
              " 'created': 1734695922,\n",
              " 'model': 'gpt-3.5-turbo-16k-0613',\n",
              " 'choices': [{'index': 0,\n",
              "   'message': {'role': 'assistant',\n",
              "    'content': 'Hello! How can I assist you today?',\n",
              "    'refusal': None},\n",
              "   'logprobs': None,\n",
              "   'finish_reason': 'stop'}],\n",
              " 'usage': {'prompt_tokens': 19,\n",
              "  'completion_tokens': 10,\n",
              "  'total_tokens': 29,\n",
              "  'prompt_tokens_details': {'cached_tokens': 0, 'audio_tokens': 0},\n",
              "  'completion_tokens_details': {'reasoning_tokens': 0,\n",
              "   'audio_tokens': 0,\n",
              "   'accepted_prediction_tokens': 0,\n",
              "   'rejected_prediction_tokens': 0}},\n",
              " 'system_fingerprint': None}"
            ]
          },
          "execution_count": 63,
          "metadata": {},
          "output_type": "execute_result"
        }
      ],
      "source": [
        "response.json()"
      ]
    },
    {
      "cell_type": "code",
      "execution_count": 64,
      "metadata": {
        "id": "Mg_qL7xH9uqd"
      },
      "outputs": [],
      "source": [
        "from openai import OpenAI"
      ]
    },
    {
      "cell_type": "code",
      "execution_count": 65,
      "metadata": {
        "id": "dyJNgm669unV"
      },
      "outputs": [],
      "source": [
        "# using above key\n",
        "client = OpenAI(api_key=OPENAI_API_KEY)"
      ]
    },
    {
      "cell_type": "code",
      "execution_count": 66,
      "metadata": {
        "colab": {
          "base_uri": "https://localhost:8080/"
        },
        "id": "OFyWKgrk9ukX",
        "outputId": "dc13f543-4e33-4c2d-f511-0c9fd3e56e05"
      },
      "outputs": [
        {
          "name": "stdout",
          "output_type": "stream",
          "text": [
            "ChatCompletionMessage(content=\"Hello! It's nice to meet you. How can I assist you today?\", refusal=None, role='assistant', audio=None, function_call=None, tool_calls=None)\n"
          ]
        }
      ],
      "source": [
        "# TODO-3: write code to call openai with official openai library\n",
        "completion = client.chat.completions.create(\n",
        "  model=\"gpt-3.5-turbo-16k\",\n",
        "  messages=[\n",
        "    {\"role\": \"system\", \"content\": \"You are a helpful assistant.\"},\n",
        "    {\"role\": \"user\", \"content\": \"Hello! I'm from Thailand\"}\n",
        "  ]\n",
        ")\n",
        "\n",
        "print(completion.choices[0].message)"
      ]
    },
    {
      "cell_type": "code",
      "execution_count": 67,
      "metadata": {
        "colab": {
          "base_uri": "https://localhost:8080/"
        },
        "id": "93LUrZRt99PR",
        "outputId": "e185b78d-b6d4-4725-b23e-282de0abb065"
      },
      "outputs": [
        {
          "name": "stdout",
          "output_type": "stream",
          "text": [
            "ChatCompletionMessage(content=\"Hello! It's nice to meet someone from Thailand. How can I assist you today?\", refusal=None, role='assistant', audio=None, function_call=None, tool_calls=None)\n"
          ]
        }
      ],
      "source": [
        "completion = client.chat.completions.create(\n",
        "    model=\"gpt-4o\",\n",
        "    store=True,\n",
        "    messages=[\n",
        "        {\"role\": \"system\", \"content\": \"You are a helpful assistant.\"},\n",
        "        {\"role\": \"user\", \"content\": \"Hello! I'm from Thailand\"}\n",
        "    ]\n",
        ")\n",
        "print(completion.choices[0].message)"
      ]
    },
    {
      "cell_type": "code",
      "execution_count": 68,
      "metadata": {
        "id": "teAlsiJfHGsX"
      },
      "outputs": [],
      "source": [
        "response = client.chat.completions.create(\n",
        "    model = \"gpt-3.5-turbo\",\n",
        "    messages = [\n",
        "        {\n",
        "            \"role\":\"system\",\n",
        "            \"content\":[\n",
        "                {\n",
        "                    \"type\":\"text\",\n",
        "                    \"text\":\"\"\n",
        "                }\n",
        "            ]\n",
        "        },\n",
        "        {\n",
        "            \"role\":\"user\",\n",
        "            \"content\":[\n",
        "                {\n",
        "                    \"type\":\"text\",\n",
        "                    \"text\":\"\"\n",
        "                }\n",
        "            ]\n",
        "        }\n",
        "    ],\n",
        "    temperature = 0,\n",
        "    max_tokens = 2048,\n",
        "    top_p = 1,\n",
        "    presence_penalty = 0,\n",
        "    response_format = {\n",
        "        \"type\":\"text\"\n",
        "    }\n",
        ")"
      ]
    },
    {
      "cell_type": "code",
      "execution_count": 69,
      "metadata": {
        "colab": {
          "base_uri": "https://localhost:8080/"
        },
        "id": "wHd2J4t0ILRR",
        "outputId": "052e2479-bb86-4db3-e54a-46cd9f657a87"
      },
      "outputs": [
        {
          "name": "stdout",
          "output_type": "stream",
          "text": [
            "ChatCompletion(id='chatcmpl-AgVwVo29MXBzrxuRhpp4hfcZrmdRz', choices=[Choice(finish_reason='stop', index=0, logprobs=None, message=ChatCompletionMessage(content='Hello! How can I assist you today?', refusal=None, role='assistant', audio=None, function_call=None, tool_calls=None))], created=1734695927, model='gpt-3.5-turbo-0125', object='chat.completion', service_tier=None, system_fingerprint=None, usage=CompletionUsage(completion_tokens=10, prompt_tokens=11, total_tokens=21, completion_tokens_details=CompletionTokensDetails(accepted_prediction_tokens=0, audio_tokens=0, reasoning_tokens=0, rejected_prediction_tokens=0), prompt_tokens_details=PromptTokensDetails(audio_tokens=0, cached_tokens=0)))\n"
          ]
        }
      ],
      "source": [
        "print(response)"
      ]
    },
    {
      "cell_type": "markdown",
      "metadata": {
        "id": "9ny80sduqUVB"
      },
      "source": [
        "<hr>"
      ]
    },
    {
      "cell_type": "code",
      "execution_count": 70,
      "metadata": {
        "id": "Naq2otFcJn5G"
      },
      "outputs": [],
      "source": [
        "system_prompts = \"\"\"\n",
        "You will be presented with user reviews and your job is to provide a set of tags from the following list\n",
        "    - Provides good value for the price OR Costs too much\n",
        "    - Works better than expected OR Did not work as well as expected\n",
        "    - Includes essential features OR Lacks essential features\n",
        "    - Easy to use OR Difficult to use\n",
        "    - High quality and durability OR Poor quality and durability\n",
        "    - Easy and affordable to maintain or repaire OR Difficult or costly to maintain or repair\n",
        "    - Easy to transport OR Difficult to transport\n",
        "    - Easy to store OR Diffucult to store\n",
        "    - Compatible with other devices or system OR Not compatible with other devices or systems\n",
        "    - Safe and user-friendly OR Unsafe or hazardous to use\n",
        "    - Excellent customer support OR Poor customer support\n",
        "    - Generous and comprehensive warranty OR limited or insufficient warranty\n",
        "\"\"\"\n",
        "\n",
        "def analyze_review(text):\n",
        "    response = client.chat.completions.create(\n",
        "    model=\"gpt-3.5-turbo\",\n",
        "    messages=[\n",
        "        {\"role\":\"system\",\"content\":[{\"type\":\"text\",\"text\":system_prompts}]},\n",
        "        {\"role\":\"user\",\"content\":[{\"type\":\"text\",\"text\":text}]}\n",
        "    ],\n",
        "    temperature = 0,\n",
        "    max_tokens = 2048,\n",
        "    top_p = 1,\n",
        "    presence_penalty = 0,\n",
        "    response_format = {\n",
        "        \"type\":\"text\"\n",
        "    })\n",
        "    return response.choices[0].message\n",
        "\n"
      ]
    },
    {
      "cell_type": "code",
      "execution_count": 71,
      "metadata": {
        "id": "VUqL7VAbLSwU"
      },
      "outputs": [],
      "source": [
        "x = analyze_review(\"The product is great , very easy to use!\")"
      ]
    },
    {
      "cell_type": "code",
      "execution_count": 72,
      "metadata": {
        "colab": {
          "base_uri": "https://localhost:8080/"
        },
        "id": "69WHnJVxMxAs",
        "outputId": "45a39c36-ccfd-4bdb-801d-2181fddce00d"
      },
      "outputs": [
        {
          "name": "stdout",
          "output_type": "stream",
          "text": [
            "- Easy to use\n",
            "- High quality and durability\n"
          ]
        }
      ],
      "source": [
        "print(x.content)"
      ]
    },
    {
      "cell_type": "markdown",
      "metadata": {
        "id": "e7mPt9ZVqc2l"
      },
      "source": [
        "<hr>"
      ]
    },
    {
      "cell_type": "code",
      "execution_count": 73,
      "metadata": {
        "id": "mHZUzmX4qd_O"
      },
      "outputs": [],
      "source": [
        "style_prompts = {\n",
        "    \"informal\":\"Using informal words like talking to a friend.\",\n",
        "    \"ielts\":\"Using very fancy words\",\n",
        "    \"formal\":\"Using formal words\",\n",
        "    \"academic\":\"Using academic words suitable for academic publications.\",\n",
        "    \"default\":\"\"\n",
        "}\n",
        "def augment_sentence(text,style=\"default\"):\n",
        "    response = client.chat.completions.create(\n",
        "    model=\"gpt-3.5-turbo-16k\",\n",
        "    messages=[\n",
        "        {\n",
        "        \"role\": \"system\",\n",
        "        \"content\": [{\"type\": \"text\",\"text\": \"You will be provided with statements, and your task is to convert them to standart english. \" +style_prompts[style]}]\n",
        "        },\n",
        "        {\n",
        "        \"role\": \"user\",\n",
        "        \"content\": [{\"type\": \"text\",\"text\": text}]\n",
        "        }\n",
        "    ],\n",
        "    temperature=0,\n",
        "    max_tokens=2048,\n",
        "    top_p=1,\n",
        "    frequency_penalty=0,\n",
        "    presence_penalty=0,\n",
        "    response_format={\n",
        "        \"type\": \"text\"\n",
        "    }\n",
        "    )\n",
        "    return response.choices[0].message.content"
      ]
    },
    {
      "cell_type": "code",
      "execution_count": 74,
      "metadata": {
        "id": "xwxKIkMAsUeP"
      },
      "outputs": [],
      "source": [
        "test_text = \"I am writting this email to apply for a job at KBTG in software developer positionl. I'm currently a student at 4 year univercity. I want this job very much\""
      ]
    },
    {
      "cell_type": "code",
      "execution_count": 75,
      "metadata": {
        "colab": {
          "base_uri": "https://localhost:8080/",
          "height": 53
        },
        "id": "ZEN_rUbIsUbQ",
        "outputId": "a501350e-c4ce-425e-d535-45d571cdb206"
      },
      "outputs": [
        {
          "data": {
            "application/vnd.google.colaboratory.intrinsic+json": {
              "type": "string"
            },
            "text/plain": [
              "'I am writing this email to apply for a software developer position at KBTG. I am currently a student at a 4-year university. I am very interested in this job.'"
            ]
          },
          "execution_count": 75,
          "metadata": {},
          "output_type": "execute_result"
        }
      ],
      "source": [
        "augment_sentence(test_text)"
      ]
    },
    {
      "cell_type": "code",
      "execution_count": 76,
      "metadata": {
        "colab": {
          "base_uri": "https://localhost:8080/",
          "height": 53
        },
        "id": "V2ENVLOWsUYM",
        "outputId": "f11025ec-2e47-4d4b-f78f-2d5e14d86442"
      },
      "outputs": [
        {
          "data": {
            "application/vnd.google.colaboratory.intrinsic+json": {
              "type": "string"
            },
            "text/plain": [
              "'I am writing this email to formally apply for a software developer position at KBTG. Currently, I am enrolled as a student at a four-year university. I am highly interested in securing this job opportunity.'"
            ]
          },
          "execution_count": 76,
          "metadata": {},
          "output_type": "execute_result"
        }
      ],
      "source": [
        "augment_sentence(test_text, style=\"formal\")"
      ]
    },
    {
      "cell_type": "code",
      "execution_count": 77,
      "metadata": {
        "colab": {
          "base_uri": "https://localhost:8080/",
          "height": 70
        },
        "id": "bsjJKuXPslpH",
        "outputId": "8d7d0053-6e2a-48ea-ddab-65d8b36032fc"
      },
      "outputs": [
        {
          "data": {
            "application/vnd.google.colaboratory.intrinsic+json": {
              "type": "string"
            },
            "text/plain": [
              "'I hereby compose this electronic correspondence with the intention of submitting my application for the esteemed position of software developer at KBTG. Presently, I am enrolled as a diligent scholar at a reputable four-year university. I ardently desire to secure this employment opportunity.'"
            ]
          },
          "execution_count": 77,
          "metadata": {},
          "output_type": "execute_result"
        }
      ],
      "source": [
        "augment_sentence(test_text, style=\"ielts\")"
      ]
    },
    {
      "cell_type": "code",
      "execution_count": 78,
      "metadata": {
        "colab": {
          "base_uri": "https://localhost:8080/",
          "height": 70
        },
        "id": "ETDBT1_eslmB",
        "outputId": "67ead5c0-f181-4554-ebf4-d402e047d741"
      },
      "outputs": [
        {
          "data": {
            "application/vnd.google.colaboratory.intrinsic+json": {
              "type": "string"
            },
            "text/plain": [
              "\"Hey there,\\n\\nI'm reaching out to apply for the software developer position at KBTG. Just wanted to let you know that I'm currently a student at a 4-year university. I'm really excited about this job opportunity and would love to be considered for it.\\n\\nThanks,\\n[Your Name]\""
            ]
          },
          "execution_count": 78,
          "metadata": {},
          "output_type": "execute_result"
        }
      ],
      "source": [
        "augment_sentence(test_text, style=\"informal\")"
      ]
    }
  ],
  "metadata": {
    "colab": {
      "provenance": []
    },
    "kernelspec": {
      "display_name": "Python 3",
      "name": "python3"
    },
    "language_info": {
      "name": "python"
    }
  },
  "nbformat": 4,
  "nbformat_minor": 0
}
